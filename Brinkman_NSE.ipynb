{
  "nbformat": 4,
  "nbformat_minor": 0,
  "metadata": {
    "colab": {
      "name": "Brinkman-NSE.ipynb",
      "provenance": [],
      "include_colab_link": true
    },
    "kernelspec": {
      "name": "python3",
      "display_name": "Python 3"
    }
  },
  "cells": [
    {
      "cell_type": "markdown",
      "metadata": {
        "id": "view-in-github",
        "colab_type": "text"
      },
      "source": [
        "<a href=\"https://colab.research.google.com/github/johanhoffman/DD2365_VT23/blob/main/Brinkman_NSE.ipynb\" target=\"_parent\"><img src=\"https://colab.research.google.com/assets/colab-badge.svg\" alt=\"Open In Colab\"/></a>"
      ]
    },
    {
      "cell_type": "markdown",
      "metadata": {
        "id": "vWo2Vw3_3wGP"
      },
      "source": [
        "# About the code"
      ]
    },
    {
      "cell_type": "markdown",
      "metadata": {
        "id": "a-NLPsrO3wHo"
      },
      "source": []
    },
    {
      "cell_type": "code",
      "metadata": {
        "id": "VyWAkKBp3iIT"
      },
      "source": [
        "# Copyright (C) 2019 Johan Hoffman (jhoffman@kth.se)"
      ],
      "execution_count": null,
      "outputs": []
    },
    {
      "cell_type": "markdown",
      "metadata": {
        "id": "Mr27C4zX3875"
      },
      "source": [
        "# Setup environment"
      ]
    },
    {
      "cell_type": "code",
      "metadata": {
        "id": "tVySby364GKG",
        "outputId": "27df6a0c-c197-40d7-8966-3baee7c3b41f",
        "colab": {
          "base_uri": "https://localhost:8080/"
        }
      },
      "source": [
        "# Load neccessary modules.\n",
        "from google.colab import files\n",
        "\n",
        "import numpy as np\n",
        "import time\n",
        "\n",
        "# Install FEniCS (this may take a long time)\n",
        "try:\n",
        "    import dolfin\n",
        "except ImportError:\n",
        "    !wget \"https://fem-on-colab.github.io/releases/fenics-install.sh\" -O \"/tmp/fenics-install.sh\" && bash \"/tmp/fenics-install.sh\"\n",
        "    import dolfin\n",
        "    \n",
        "from dolfin import *; from mshr import *\n",
        "\n",
        "import dolfin.common.plotting as fenicsplot\n",
        "\n",
        "from matplotlib import pyplot as plt"
      ],
      "execution_count": null,
      "outputs": [
        {
          "output_type": "stream",
          "name": "stdout",
          "text": [
            "--2022-04-04 07:47:21--  https://fem-on-colab.github.io/releases/fenics-install.sh\n",
            "Resolving fem-on-colab.github.io (fem-on-colab.github.io)... 185.199.108.153, 185.199.109.153, 185.199.110.153, ...\n",
            "Connecting to fem-on-colab.github.io (fem-on-colab.github.io)|185.199.108.153|:443... connected.\n",
            "HTTP request sent, awaiting response... 200 OK\n",
            "Length: 2831 (2.8K) [application/x-sh]\n",
            "Saving to: ‘/tmp/fenics-install.sh’\n",
            "\n",
            "\r/tmp/fenics-install   0%[                    ]       0  --.-KB/s               \r/tmp/fenics-install 100%[===================>]   2.76K  --.-KB/s    in 0s      \n",
            "\n",
            "2022-04-04 07:47:21 (22.3 MB/s) - ‘/tmp/fenics-install.sh’ saved [2831/2831]\n",
            "\n",
            "+ SHARE_PREFIX=/usr/local/share/fem-on-colab\n",
            "+ FENICS_INSTALLED=/usr/local/share/fem-on-colab/fenics.installed\n",
            "+ [[ ! -f /usr/local/share/fem-on-colab/fenics.installed ]]\n",
            "+ PYBIND11_INSTALL_SCRIPT_PATH=https://github.com/fem-on-colab/fem-on-colab.github.io/raw/e9e1ba9/releases/pybind11-install.sh\n",
            "+ [[ https://github.com/fem-on-colab/fem-on-colab.github.io/raw/e9e1ba9/releases/pybind11-install.sh == http* ]]\n",
            "+ PYBIND11_INSTALL_SCRIPT_DOWNLOAD=https://github.com/fem-on-colab/fem-on-colab.github.io/raw/e9e1ba9/releases/pybind11-install.sh\n",
            "+ PYBIND11_INSTALL_SCRIPT_PATH=/tmp/pybind11-install.sh\n",
            "+ [[ ! -f /tmp/pybind11-install.sh ]]\n",
            "+ wget https://github.com/fem-on-colab/fem-on-colab.github.io/raw/e9e1ba9/releases/pybind11-install.sh -O /tmp/pybind11-install.sh\n",
            "--2022-04-04 07:47:21--  https://github.com/fem-on-colab/fem-on-colab.github.io/raw/e9e1ba9/releases/pybind11-install.sh\n",
            "Resolving github.com (github.com)... 140.82.114.4\n",
            "Connecting to github.com (github.com)|140.82.114.4|:443... connected.\n",
            "HTTP request sent, awaiting response... 302 Found\n",
            "Location: https://raw.githubusercontent.com/fem-on-colab/fem-on-colab.github.io/e9e1ba91229f62d082b7118d533b60616b542dd8/releases/pybind11-install.sh [following]\n",
            "--2022-04-04 07:47:21--  https://raw.githubusercontent.com/fem-on-colab/fem-on-colab.github.io/e9e1ba91229f62d082b7118d533b60616b542dd8/releases/pybind11-install.sh\n",
            "Resolving raw.githubusercontent.com (raw.githubusercontent.com)... 185.199.108.133, 185.199.109.133, 185.199.110.133, ...\n",
            "Connecting to raw.githubusercontent.com (raw.githubusercontent.com)|185.199.108.133|:443... connected.\n",
            "HTTP request sent, awaiting response... 200 OK\n",
            "Length: 1487 (1.5K) [text/plain]\n",
            "Saving to: ‘/tmp/pybind11-install.sh’\n",
            "\n",
            "/tmp/pybind11-insta 100%[===================>]   1.45K  --.-KB/s    in 0s      \n",
            "\n",
            "2022-04-04 07:47:21 (18.7 MB/s) - ‘/tmp/pybind11-install.sh’ saved [1487/1487]\n",
            "\n",
            "+ source /tmp/pybind11-install.sh\n",
            "++ set -e\n",
            "++ set -x\n",
            "++ SHARE_PREFIX=/usr/local/share/fem-on-colab\n",
            "++ PYBIND11_INSTALLED=/usr/local/share/fem-on-colab/pybind11.installed\n",
            "++ [[ ! -f /usr/local/share/fem-on-colab/pybind11.installed ]]\n",
            "++ MPI4PY_INSTALL_SCRIPT_PATH=https://github.com/fem-on-colab/fem-on-colab.github.io/raw/534f2c3/releases/mpi4py-install.sh\n",
            "++ [[ https://github.com/fem-on-colab/fem-on-colab.github.io/raw/534f2c3/releases/mpi4py-install.sh == http* ]]\n",
            "++ MPI4PY_INSTALL_SCRIPT_DOWNLOAD=https://github.com/fem-on-colab/fem-on-colab.github.io/raw/534f2c3/releases/mpi4py-install.sh\n",
            "++ MPI4PY_INSTALL_SCRIPT_PATH=/tmp/mpi4py-install.sh\n",
            "++ [[ ! -f /tmp/mpi4py-install.sh ]]\n",
            "++ wget https://github.com/fem-on-colab/fem-on-colab.github.io/raw/534f2c3/releases/mpi4py-install.sh -O /tmp/mpi4py-install.sh\n",
            "--2022-04-04 07:47:21--  https://github.com/fem-on-colab/fem-on-colab.github.io/raw/534f2c3/releases/mpi4py-install.sh\n",
            "Resolving github.com (github.com)... 140.82.114.4\n",
            "Connecting to github.com (github.com)|140.82.114.4|:443... connected.\n",
            "HTTP request sent, awaiting response... 302 Found\n",
            "Location: https://raw.githubusercontent.com/fem-on-colab/fem-on-colab.github.io/534f2c3456e2d14b51256b962a88e26f16341798/releases/mpi4py-install.sh [following]\n",
            "--2022-04-04 07:47:22--  https://raw.githubusercontent.com/fem-on-colab/fem-on-colab.github.io/534f2c3456e2d14b51256b962a88e26f16341798/releases/mpi4py-install.sh\n",
            "Resolving raw.githubusercontent.com (raw.githubusercontent.com)... 185.199.111.133, 185.199.110.133, 185.199.108.133, ...\n",
            "Connecting to raw.githubusercontent.com (raw.githubusercontent.com)|185.199.111.133|:443... connected.\n",
            "HTTP request sent, awaiting response... 200 OK\n",
            "Length: 1796 (1.8K) [text/plain]\n",
            "Saving to: ‘/tmp/mpi4py-install.sh’\n",
            "\n",
            "/tmp/mpi4py-install 100%[===================>]   1.75K  --.-KB/s    in 0s      \n",
            "\n",
            "2022-04-04 07:47:22 (28.8 MB/s) - ‘/tmp/mpi4py-install.sh’ saved [1796/1796]\n",
            "\n",
            "++ source /tmp/mpi4py-install.sh\n",
            "+++ set -e\n",
            "+++ set -x\n",
            "+++ SHARE_PREFIX=/usr/local/share/fem-on-colab\n",
            "+++ MPI4PY_INSTALLED=/usr/local/share/fem-on-colab/mpi4py.installed\n",
            "+++ [[ ! -f /usr/local/share/fem-on-colab/mpi4py.installed ]]\n",
            "+++ GCC_INSTALL_SCRIPT_PATH=https://github.com/fem-on-colab/fem-on-colab.github.io/raw/fabd340/releases/gcc-install.sh\n",
            "+++ [[ https://github.com/fem-on-colab/fem-on-colab.github.io/raw/fabd340/releases/gcc-install.sh == http* ]]\n",
            "+++ GCC_INSTALL_SCRIPT_DOWNLOAD=https://github.com/fem-on-colab/fem-on-colab.github.io/raw/fabd340/releases/gcc-install.sh\n",
            "+++ GCC_INSTALL_SCRIPT_PATH=/tmp/gcc-install.sh\n",
            "+++ [[ ! -f /tmp/gcc-install.sh ]]\n",
            "+++ wget https://github.com/fem-on-colab/fem-on-colab.github.io/raw/fabd340/releases/gcc-install.sh -O /tmp/gcc-install.sh\n",
            "--2022-04-04 07:47:22--  https://github.com/fem-on-colab/fem-on-colab.github.io/raw/fabd340/releases/gcc-install.sh\n",
            "Resolving github.com (github.com)... 140.82.114.4\n",
            "Connecting to github.com (github.com)|140.82.114.4|:443... connected.\n",
            "HTTP request sent, awaiting response... 302 Found\n",
            "Location: https://raw.githubusercontent.com/fem-on-colab/fem-on-colab.github.io/fabd340ffcab5dbd49b73fb20e83209027e06cf3/releases/gcc-install.sh [following]\n",
            "--2022-04-04 07:47:22--  https://raw.githubusercontent.com/fem-on-colab/fem-on-colab.github.io/fabd340ffcab5dbd49b73fb20e83209027e06cf3/releases/gcc-install.sh\n",
            "Resolving raw.githubusercontent.com (raw.githubusercontent.com)... 185.199.108.133, 185.199.109.133, 185.199.110.133, ...\n",
            "Connecting to raw.githubusercontent.com (raw.githubusercontent.com)|185.199.108.133|:443... connected.\n",
            "HTTP request sent, awaiting response... 200 OK\n",
            "Length: 3734 (3.6K) [text/plain]\n",
            "Saving to: ‘/tmp/gcc-install.sh’\n",
            "\n",
            "/tmp/gcc-install.sh 100%[===================>]   3.65K  --.-KB/s    in 0s      \n",
            "\n",
            "2022-04-04 07:47:22 (49.2 MB/s) - ‘/tmp/gcc-install.sh’ saved [3734/3734]\n",
            "\n",
            "+++ source /tmp/gcc-install.sh\n",
            "++++ set -e\n",
            "++++ set -x\n",
            "++++ SHARE_PREFIX=/usr/local/share/fem-on-colab\n",
            "++++ GCC_INSTALLED=/usr/local/share/fem-on-colab/gcc.installed\n",
            "++++ [[ ! -f /usr/local/share/fem-on-colab/gcc.installed ]]\n",
            "++++ add-apt-repository -y ppa:ubuntu-toolchain-r/test\n",
            "Ign:1 https://developer.download.nvidia.com/compute/cuda/repos/ubuntu1804/x86_64  InRelease\n",
            "Ign:2 https://developer.download.nvidia.com/compute/machine-learning/repos/ubuntu1804/x86_64  InRelease\n",
            "Hit:3 https://developer.download.nvidia.com/compute/cuda/repos/ubuntu1804/x86_64  Release\n",
            "Hit:4 https://cloud.r-project.org/bin/linux/ubuntu bionic-cran40/ InRelease\n",
            "Hit:5 https://developer.download.nvidia.com/compute/machine-learning/repos/ubuntu1804/x86_64  Release\n",
            "Hit:6 http://security.ubuntu.com/ubuntu bionic-security InRelease\n",
            "Get:7 http://ppa.launchpad.net/c2d4u.team/c2d4u4.0+/ubuntu bionic InRelease [15.9 kB]\n",
            "Hit:8 http://archive.ubuntu.com/ubuntu bionic InRelease\n",
            "Hit:10 http://archive.ubuntu.com/ubuntu bionic-updates InRelease\n",
            "Hit:11 http://archive.ubuntu.com/ubuntu bionic-backports InRelease\n",
            "Hit:12 http://ppa.launchpad.net/cran/libgit2/ubuntu bionic InRelease\n",
            "Hit:14 http://ppa.launchpad.net/deadsnakes/ppa/ubuntu bionic InRelease\n",
            "Hit:15 http://ppa.launchpad.net/fenics-packages/fenics/ubuntu bionic InRelease\n",
            "Hit:16 http://ppa.launchpad.net/graphics-drivers/ppa/ubuntu bionic InRelease\n",
            "Get:17 http://ppa.launchpad.net/ubuntu-toolchain-r/test/ubuntu bionic InRelease [20.8 kB]\n",
            "Get:18 http://ppa.launchpad.net/c2d4u.team/c2d4u4.0+/ubuntu bionic/main Sources [1,831 kB]\n",
            "Get:19 http://ppa.launchpad.net/c2d4u.team/c2d4u4.0+/ubuntu bionic/main amd64 Packages [938 kB]\n",
            "Get:20 http://ppa.launchpad.net/ubuntu-toolchain-r/test/ubuntu bionic/main amd64 Packages [50.4 kB]\n",
            "98% [20 Packages 0 B/50.4 kB 0%]"
          ]
        }
      ]
    },
    {
      "cell_type": "markdown",
      "metadata": {
        "id": "4GePyWeH4Jiw"
      },
      "source": [
        "# Define domain and mesh"
      ]
    },
    {
      "cell_type": "code",
      "metadata": {
        "id": "NlCCf7XU4PC6"
      },
      "source": [
        "# Define domain\n",
        "L = 4\n",
        "H = 1\n",
        "\n",
        "# Define subdomains\n",
        "class Left(SubDomain):\n",
        "    def inside(self, x, on_boundary):\n",
        "        return near(x[0], 0.0) \n",
        "\n",
        "class Right(SubDomain):\n",
        "    def inside(self, x, on_boundary):\n",
        "        return near(x[0], L)\n",
        "\n",
        "class Lower(SubDomain):\n",
        "    def inside(self, x, on_boundary):\n",
        "        return near(x[1], 0.0)\n",
        "\n",
        "class Upper(SubDomain):\n",
        "    def inside(self, x, on_boundary):\n",
        "        return near(x[1], H)\n",
        "      \n",
        "left = Left()\n",
        "right = Right()\n",
        "lower = Lower()\n",
        "upper = Upper()\n",
        "\n",
        "resolution = 16\n",
        "\n",
        "# Generate mesh \n",
        "mesh = RectangleMesh(Point(0.0, 0.0), Point(L, H), L*resolution, H*resolution)\n",
        "#mesh = generate_mesh(Rectangle(Point(0.0,0.0), Point(L,H)) - Circle(Point(0.5,0.5*H),0.2), resolution)\n",
        "\n",
        "# Refine mesh\n",
        "no_levels = 0\n",
        "for i in range(0,no_levels):\n",
        "  cell_marker = MeshFunction(\"bool\", mesh, mesh.topology().dim())\n",
        "  for cell in cells(mesh):\n",
        "    cell_marker[cell] = False\n",
        "    p = cell.midpoint()\n",
        "    if p.distance(Point(0.5, 0.5)) < 1.0:\n",
        "        cell_marker[cell] = True\n",
        "  mesh = refine(mesh, cell_marker)\n",
        "\n",
        "#plot(Q.mesh())\n",
        "\n",
        "# Define mesh functions \n",
        "boundaries = MeshFunction(\"size_t\", mesh, mesh.topology().dim()-1)\n",
        "boundaries.set_all(0)\n",
        "left.mark(boundaries, 1)\n",
        "right.mark(boundaries, 2)\n",
        "lower.mark(boundaries, 3)\n",
        "upper.mark(boundaries, 4)\n",
        "\n",
        "plot(mesh)"
      ],
      "execution_count": null,
      "outputs": []
    },
    {
      "cell_type": "markdown",
      "metadata": {
        "id": "QEkwlldy4e3S"
      },
      "source": [
        "# Define approximation spaces"
      ]
    },
    {
      "cell_type": "code",
      "metadata": {
        "id": "ZDEK4lxo4kD5"
      },
      "source": [
        "# Generate finite element spaces\n",
        "#VE = VectorElement(\"CG\", mesh.ufl_cell(), 1)\n",
        "#QE = FiniteElement(\"CG\", mesh.ufl_cell(), 1)\n",
        "#WE = VE * QE\n",
        "\n",
        "#W = FunctionSpace(mesh, WE)\n",
        "#V = FunctionSpace(mesh, VE)\n",
        "#Q = FunctionSpace(mesh, QE)\n",
        "\n",
        "V = VectorFunctionSpace(mesh, \"Lagrange\", 1)\n",
        "Q = FunctionSpace(mesh, \"Lagrange\", 1)\n",
        "K = FunctionSpace(mesh, \"Discontinuous Lagrange\", 0)\n",
        "\n",
        "# Define trial and test functions \n",
        "#(u, p) = TrialFunctions(W)\n",
        "#(v, q) = TestFunctions(W)\n",
        "u = TrialFunction(V)\n",
        "p = TrialFunction(Q)\n",
        "v = TestFunction(V)\n",
        "q = TestFunction(Q)"
      ],
      "execution_count": null,
      "outputs": []
    },
    {
      "cell_type": "markdown",
      "metadata": {
        "id": "iqhvuid54ol9"
      },
      "source": [
        "# Define boundary conditions"
      ]
    },
    {
      "cell_type": "code",
      "metadata": {
        "id": "M24M9TrQ4sMN"
      },
      "source": [
        "# Define boundary conditions \n",
        "class DirichletBoundaryLower(SubDomain):\n",
        "    def inside(self, x, on_boundary):\n",
        "        #return bool(x[1] < DOLFIN_EPS and on_boundary)\n",
        "        return on_boundary and near(x[1], 0.0)\n",
        "\n",
        "class DirichletBoundaryUpper(SubDomain):\n",
        "    def inside(self, x, on_boundary):\n",
        "        #return bool(x[1] > (H - DOLFIN_EPS) and on_boundary)\n",
        "        return on_boundary and near(x[1], H)\n",
        "\n",
        "class DirichletBoundaryLeft(SubDomain):\n",
        "    def inside(self, x, on_boundary):\n",
        "        #return bool(x[0] < DOLFIN_EPS and on_boundary)\n",
        "        return on_boundary and near(x[0], 0.0) \n",
        "\n",
        "class DirichletBoundaryRight(SubDomain):\n",
        "    def inside(self, x, on_boundary):\n",
        "        #return bool(x[0] > (L - DOLFIN_EPS) and on_boundary)\n",
        "        return on_boundary and near(x[0], L)\n",
        "\n",
        "class DirichletBoundaryObjects(SubDomain):\n",
        "    def inside(self, x, on_boundary):\n",
        "        #return bool(x[0] > (L - DOLFIN_EPS) and on_boundary)\n",
        "        return on_boundary and (not near(x[0], 0.0)) and (not near(x[0], L)) and (not near(x[1], 0.0)) and (not near(x[1], H))\n",
        "\n",
        "dbc_lower = DirichletBoundaryLower()\n",
        "dbc_upper = DirichletBoundaryUpper()\n",
        "dbc_left = DirichletBoundaryLeft()\n",
        "dbc_right = DirichletBoundaryRight()\n",
        "dbc_objects = DirichletBoundaryObjects()\n",
        "\n",
        "#uin = Expression('4.0*x[1]*(1-x[1])', element = V.sub(0).ufl_element())\n",
        "#uin = Expression('1.0 + 1.0*fabs(sin(t))', element = V.sub(0).ufl_element(), t=0.0)\n",
        "uin = 1.0\n",
        "#bcuin = DirichletBC(V, (uin, 0.0), dbc_left)\n",
        "bcu_in0 = DirichletBC(V.sub(0), uin, dbc_left)\n",
        "bcu_in1 = DirichletBC(V.sub(1), 0.0, dbc_left)\n",
        "bcu_upp0 = DirichletBC(V.sub(0), 0.0, dbc_upper)\n",
        "bcu_upp1 = DirichletBC(V.sub(1), 0.0, dbc_upper)\n",
        "bcu_low0 = DirichletBC(V.sub(0), 0.0, dbc_lower)\n",
        "bcu_low1 = DirichletBC(V.sub(1), 0.0, dbc_lower)\n",
        "bcu_obj0 = DirichletBC(V.sub(0), 0.0, dbc_objects)\n",
        "bcu_obj1 = DirichletBC(V.sub(1), 0.0, dbc_objects)\n",
        "#bcuw0 = DirichletBC(V, (0.0, 0.0), dbc_lower)\n",
        "#bcuw1 = DirichletBC(V, (0.0, 0.0), dbc_upper)\n",
        "\n",
        "pin = Expression('5.0*fabs(sin(t))', element = Q.ufl_element(), t=0.0)\n",
        "pout = 0.0\n",
        "bcp0 = DirichletBC(Q, pin, dbc_left) \n",
        "bcp1 = DirichletBC(Q, pout, dbc_right)\n",
        "\n",
        "bcu = [bcu_in0, bcu_in1, bcu_upp0, bcu_upp1, bcu_low0, bcu_low1, bcu_obj0, bcu_obj1]\n",
        "#bcu = [bcu_in0, bcu_in1, bcu_upp1, bcu_low1]\n",
        "#bcu = [bcu_upp1, bcu_low1, bcu_obj0, bcu_obj1]\n",
        "bcp = [bcp1]\n",
        "#bcp = [bcp0, bcp1]"
      ],
      "execution_count": null,
      "outputs": []
    },
    {
      "cell_type": "markdown",
      "metadata": {
        "id": "I6fOHkXb46wK"
      },
      "source": [
        "# Define model parameters"
      ]
    },
    {
      "cell_type": "code",
      "metadata": {
        "id": "A7qKjX9eGQrC"
      },
      "source": [
        "# Set permeability matrix\n",
        "Kinv11 = Expression('100.0*fabs(sin(2.0*pi*(x[1] - 0.1*x[0])))', element = K.ufl_element())\n",
        "Kinv12 = Expression('0.0', element = K.ufl_element())\n",
        "Kinv21 = Kinv12\n",
        "Kinv22 = Kinv11\n",
        "\n",
        "# Set viscosity\n",
        "nu = 1.0e-2\n",
        "\n",
        "# Set effective viscosity\n",
        "nueff = 1.0e-2"
      ],
      "execution_count": null,
      "outputs": []
    },
    {
      "cell_type": "markdown",
      "metadata": {
        "id": "0X6RTqGTGMRE"
      },
      "source": [
        "# Define method parameters"
      ]
    },
    {
      "cell_type": "code",
      "metadata": {
        "id": "0qwvSA4249nr"
      },
      "source": [
        "# Define functions\n",
        "u0 = Function(V)\n",
        "u1 = Function(V)\n",
        "p0 = Function(Q)\n",
        "p1 = Function(Q)\n",
        "\n",
        "# Set method parameters\n",
        "num_nnlin_iter = 5 \n",
        "prec = \"amg\" if has_krylov_solver_preconditioner(\"amg\") else \"default\" \n",
        "\n",
        "# Time step length \n",
        "dt = 0.5*mesh.hmin() \n",
        "\n",
        "# Define measure for boundary integration  \n",
        "ds = Measure('ds', domain=mesh, subdomain_data=boundaries)"
      ],
      "execution_count": null,
      "outputs": []
    },
    {
      "cell_type": "markdown",
      "metadata": {
        "id": "QqDF__X35AQJ"
      },
      "source": [
        "# Define varitional problem"
      ]
    },
    {
      "cell_type": "code",
      "metadata": {
        "id": "1rU2lHvu5Eqz"
      },
      "source": [
        "# Define variational problems\n",
        "#d1 = 1.0*mesh.hmin()\n",
        "#d2 = 1.0*mesh.hmin()\n",
        "#d3 = 1.0e-2*mesh.hmin()\n",
        "\n",
        "h = CellDiameter(mesh);\n",
        "u_mag = sqrt(dot(u1,u1))\n",
        "d1 = 1.0/sqrt((pow(1.0/dt,2.0) + pow(u_mag/h,2.0)))\n",
        "#d1 = h\n",
        "#d2 = 0.0\n",
        "d2 = h*u_mag\n",
        "\n",
        "um = 0.5*(u + u0)\n",
        "um1 = 0.5*(u1 + u0)\n",
        "Fu = inner((u - u0)/dt + grad(um)*um1, v)*dx - p1*div(v)*dx + nueff*inner(grad(um), grad(v))*dx \\\n",
        "    + d1*inner((u - u0)/dt + grad(um)*um1 + grad(p1), grad(v)*um1)*dx + d2*div(um)*div(v)*dx \\\n",
        "    + nu*(Kinv11*inner(um[0],v[0])*dx + Kinv12*inner(um[0],v[1])*dx + Kinv21*inner(um[1],v[0])*dx + Kinv22*inner(um[1],v[1])*dx)\n",
        "au = lhs(Fu)\n",
        "Lu = rhs(Fu)\n",
        "\n",
        "Fp = d1*inner((u1 - u0)/dt + grad(um1)*um1 + grad(p), grad(q))*dx + div(um1)*q*dx \n",
        "ap = lhs(Fp)\n",
        "Lp = rhs(Fp)\n",
        "\n",
        "# Assemble linear matrix \n",
        "# Ap = assemble(ap)"
      ],
      "execution_count": null,
      "outputs": []
    },
    {
      "cell_type": "markdown",
      "metadata": {
        "id": "KMNM_-FI-avv"
      },
      "source": [
        "# Set I/O variables"
      ]
    },
    {
      "cell_type": "code",
      "metadata": {
        "id": "yb9-75kO-fqh"
      },
      "source": [
        "# Open files\n",
        "file_u = File(\"results-BNS/u.pvd\")\n",
        "file_p = File(\"results-BNS/p.pvd\")\n",
        "\n",
        "# Set plot frequency\n",
        "plot_time = 0\n",
        "plot_freq = 10"
      ],
      "execution_count": null,
      "outputs": []
    },
    {
      "cell_type": "markdown",
      "metadata": {
        "id": "zB63lOqS-jqD"
      },
      "source": [
        "# Time stepping algorithm"
      ]
    },
    {
      "cell_type": "code",
      "metadata": {
        "id": "dLFcjZMV-ndb"
      },
      "source": [
        "!rm results-BNS/*\n",
        "\n",
        "# Time stepping \n",
        "T = 10\n",
        "t = dt\n",
        "while t < T + DOLFIN_EPS:\n",
        "\n",
        "    #s = 'Time t = ' + repr(t) \n",
        "    #print(s)\n",
        "\n",
        "    pin.t = t\n",
        "\n",
        "    # Solve non-linear problem \n",
        "    k = 0\n",
        "    while k < num_nnlin_iter: \n",
        "        \n",
        "        # Assemble matrix and vector \n",
        "        Au = assemble(au)\n",
        "        bu = assemble(Lu)\n",
        "\n",
        "        # Compute solution \n",
        "        [bc.apply(Au, bu) for bc in bcu]\n",
        "        [bc.apply(u1.vector()) for bc in bcu]\n",
        "        solve(Au, u1.vector(), bu, \"bicgstab\", \"default\")\n",
        "\n",
        "        # Assemble matrix and vector\n",
        "        Ap = assemble(ap) \n",
        "        bp = assemble(Lp)\n",
        "\n",
        "        # Compute solution \n",
        "        [bc.apply(Ap, bp) for bc in bcp]\n",
        "        [bc.apply(p1.vector()) for bc in bcp]\n",
        "        solve(Ap, p1.vector(), bp, \"bicgstab\", prec)\n",
        "\n",
        "        k += 1\n",
        "\n",
        "    if t > plot_time:     \n",
        "        \n",
        "        s = 'Time t = ' + repr(t) \n",
        "        print(s)\n",
        "    \n",
        "        # Save solution to file\n",
        "        file_u << u1\n",
        "        file_p << p1\n",
        "\n",
        "        # Plot solution\n",
        "        plt.figure()\n",
        "        plot(u1, title=\"Velocity\")\n",
        "\n",
        "        plt.figure()\n",
        "        plot(p1, title=\"Pressure\")\n",
        "\n",
        "        plot_time += T/plot_freq\n",
        "        \n",
        "        plt.show()\n",
        "\n",
        "    # Update time step\n",
        "    u0.assign(u1)\n",
        "    t += dt\n",
        "\n",
        "plt.show()\n",
        "\n",
        "%!tar -czvf results-BNS.tar.gz results-BNS\n",
        "%files.download('results-BNS.tar.gz')"
      ],
      "execution_count": null,
      "outputs": []
    }
  ]
}